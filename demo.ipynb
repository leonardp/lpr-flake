{
 "cells": [
  {
   "cell_type": "code",
   "execution_count": null,
   "id": "f71dcd4c",
   "metadata": {},
   "outputs": [],
   "source": [
    "import random, time, cv2\n",
    "from matplotlib import pyplot as plt\n",
    "from pydnet import darknet\n",
    "\n",
    "input_file = './dog.jpg'\n",
    "\n",
    "config_file = './yolov4-tiny.cfg'\n",
    "data_file = './coco.data'\n",
    "weights_file = './yolov4-tiny.weights'\n",
    "\n",
    "thresh = 0.5"
   ]
  },
  {
   "cell_type": "code",
   "execution_count": null,
   "id": "6fe7679f",
   "metadata": {},
   "outputs": [],
   "source": [
    "!wget -nc https://github.com/AlexeyAB/darknet/releases/download/darknet_yolo_v4_pre/yolov4-tiny.weights"
   ]
  },
  {
   "cell_type": "code",
   "execution_count": null,
   "id": "d8710a78",
   "metadata": {
    "scrolled": false
   },
   "outputs": [],
   "source": [
    "network, class_names, class_colors = darknet.load_network(    \n",
    "    config_file,\n",
    "    data_file,\n",
    "    weights_file,\n",
    ")    \n",
    "  \n",
    "width = darknet.network_width(network)    \n",
    "height = darknet.network_height(network)    \n",
    "darknet_image = darknet.make_image(width, height, 3)    \n",
    "\n",
    "image =  cv2.imread(input_file)    \n",
    "image_rgb = cv2.cvtColor(image, cv2.COLOR_BGR2RGB)    \n",
    "image_resized = cv2.resize(image_rgb, (width, height),    \n",
    "                           interpolation=cv2.INTER_LINEAR)    \n",
    "\n",
    "darknet.copy_image_from_bytes(darknet_image, image_resized.tobytes())    \n",
    "start = time.time()\n",
    "\n",
    "detections = darknet.detect_image(network, class_names, darknet_image, thresh=thresh)\n",
    "stop = time.time()\n",
    "\n",
    "\n",
    "darknet.free_image(darknet_image)    \n",
    "boxed = darknet.draw_boxes(detections, image_resized, class_colors)\n",
    "image_boxes = cv2.cvtColor(boxed, cv2.COLOR_BGR2RGB)\n",
    "\n",
    "darknet.print_detections(detections, True)\n",
    "print('FPS: {}'.format(int(1/(stop-start))))\n",
    "\n",
    "fig, axes = plt.subplots(nrows=1, ncols=2, figsize=(15,15))\n",
    "axes[0].imshow(image)\n",
    "axes[1].imshow(image_boxes)\n",
    "plt.show()"
   ]
  }
 ],
 "metadata": {
  "kernelspec": {
   "display_name": "Python 3 (ipykernel)",
   "language": "python",
   "name": "python3"
  },
  "language_info": {
   "codemirror_mode": {
    "name": "ipython",
    "version": 3
   },
   "file_extension": ".py",
   "mimetype": "text/x-python",
   "name": "python",
   "nbconvert_exporter": "python",
   "pygments_lexer": "ipython3",
   "version": "3.9.12"
  }
 },
 "nbformat": 4,
 "nbformat_minor": 5
}

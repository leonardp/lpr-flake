{
 "cells": [
  {
   "cell_type": "code",
   "execution_count": null,
   "id": "f71dcd4c",
   "metadata": {},
   "outputs": [],
   "source": [
    "import random, time, cv2\n",
    "from matplotlib import pyplot as plt\n",
    "from pydnet import darknet\n",
    "\n",
    "random.seed(3)\n",
    "input_file = './dog.jpg'\n",
    "\n",
    "config_file = './yolov4-tiny.cfg'\n",
    "data_file = './coco.data'\n",
    "weights_file = './yolov4-tiny.weights'\n",
    "\n",
    "thresh = 0.5"
   ]
  },
  {
   "cell_type": "code",
   "execution_count": null,
   "id": "6fe7679f",
   "metadata": {
    "scrolled": true
   },
   "outputs": [],
   "source": [
    "!wget -nc https://github.com/AlexeyAB/darknet/releases/download/darknet_yolo_v4_pre/yolov4-tiny.weights"
   ]
  },
  {
   "cell_type": "code",
   "execution_count": null,
   "id": "6698ad40",
   "metadata": {},
   "outputs": [],
   "source": [
    "# crashes the kernel if any of the files cannot be found\n",
    "network, class_names, class_colors = darknet.load_network(    \n",
    "    config_file,\n",
    "    data_file,\n",
    "    weights_file,\n",
    ")\n",
    "\n",
    "width = darknet.network_width(network)    \n",
    "height = darknet.network_height(network)    \n",
    "darknet_image = darknet.make_image(width, height, 3)    \n",
    "\n",
    "image =  cv2.imread(input_file)\n",
    "height_orig, width_orig, channels_orig = image.shape\n",
    "image_rgb = cv2.cvtColor(image, cv2.COLOR_BGR2RGB)    \n",
    "image_resized = cv2.resize(image_rgb, (width, height),    \n",
    "                           interpolation=cv2.INTER_LINEAR)    \n",
    "\n",
    "darknet.copy_image_from_bytes(darknet_image, image_resized.tobytes())    \n",
    "\n",
    "start = time.time()\n",
    "detections = darknet.detect_image(network, class_names, darknet_image, thresh=thresh)\n",
    "stop = time.time()\n",
    "\n",
    "\n",
    "darknet.free_image(darknet_image)    \n",
    "boxed = darknet.draw_boxes(detections, image_resized, class_colors)\n",
    "image_boxes = cv2.cvtColor(boxed, cv2.COLOR_BGR2RGB)\n",
    "\n",
    "darknet.print_detections(detections, True)\n",
    "\n",
    "print(f'Time: {round(stop-start, 4)} s -- FPS: {int(1/(stop-start))}')"
   ]
  },
  {
   "cell_type": "code",
   "execution_count": null,
   "id": "874f7b51",
   "metadata": {},
   "outputs": [],
   "source": [
    "rcol = lambda: (random.randint(0, 255),\n",
    "               random.randint(0, 255),\n",
    "               random.randint(0, 255))\n",
    "\n",
    "def get_scale_factor(orig, rescaled=None):\n",
    "    if rescaled is None:\n",
    "        return (1,1)\n",
    "    o_height, o_width, o_channels = orig.shape\n",
    "    r_height, r_width, r_channels = rescaled.shape\n",
    "    fx = o_width/r_width\n",
    "    fy = o_height/r_height\n",
    "    return fx, fy\n",
    "\n",
    "def draw_bboxes(img, dets, resized_img=None):\n",
    "\n",
    "    font = cv2.FONT_HERSHEY_DUPLEX\n",
    "    font_scale = 1\n",
    "    font_thickness = 1\n",
    "    text_color = (255, 255, 255)\n",
    "\n",
    "    for det in dets:\n",
    "        name, conf, bbox = det\n",
    "        text = f'{name}: {conf}'\n",
    "        color = rcol()\n",
    "    \n",
    "        points = darknet.bbox2points(bbox)\n",
    "        sx, sy, ex, ey = points\n",
    "\n",
    "        fx, fy = get_scale_factor(img, resized_img)\n",
    "        start, end = (int(sx*fx), int(sy*fy)), (int(ex*fx), int(ey*fy))\n",
    "        cv2.rectangle(img, start, end, color, 2)\n",
    "\n",
    "        x, y = start\n",
    "        text_size, _ = cv2.getTextSize(text, font, font_scale, font_thickness)\n",
    "        text_w, text_h = text_size\n",
    "        cv2.rectangle(img, (x, y-text_h), (x+text_w, y), color, -1)\n",
    "        cv2.putText(img, text, (x, y+font_scale-1), font, font_scale, text_color, font_thickness)"
   ]
  },
  {
   "cell_type": "code",
   "execution_count": null,
   "id": "d8710a78",
   "metadata": {},
   "outputs": [],
   "source": [
    "fig, axes = plt.subplots(nrows=3, ncols=1, figsize=(20,20))\n",
    "\n",
    "axes[0].imshow(image)\n",
    "axes[1].imshow(image_boxes)\n",
    "\n",
    "tmp = image.copy()\n",
    "draw_bboxes(tmp, detections, image_resized)\n",
    "axes[2].imshow(tmp)\n",
    "\n",
    "plt.tight_layout()\n",
    "plt.show()"
   ]
  }
 ],
 "metadata": {
  "kernelspec": {
   "display_name": "Python 3 (ipykernel)",
   "language": "python",
   "name": "python3"
  },
  "language_info": {
   "codemirror_mode": {
    "name": "ipython",
    "version": 3
   },
   "file_extension": ".py",
   "mimetype": "text/x-python",
   "name": "python",
   "nbconvert_exporter": "python",
   "pygments_lexer": "ipython3",
   "version": "3.9.12"
  }
 },
 "nbformat": 4,
 "nbformat_minor": 5
}

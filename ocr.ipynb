{
 "cells": [
  {
   "cell_type": "code",
   "execution_count": null,
   "id": "7387eec0",
   "metadata": {},
   "outputs": [],
   "source": [
    "import cv2\n",
    "from matplotlib import pyplot as plt\n",
    "import pytesseract as pyt\n",
    "\n",
    "image = './crop.jpg'\n",
    "image =  cv2.imread(image)"
   ]
  },
  {
   "cell_type": "code",
   "execution_count": null,
   "id": "e53e4610",
   "metadata": {
    "scrolled": true
   },
   "outputs": [],
   "source": [
    "fig, axes = plt.subplots(nrows=2, ncols=1, figsize=(20,20))\n",
    "\n",
    "# original\n",
    "axes[0].imshow(image)\n",
    "\n",
    "\n",
    "plt.tight_layout()\n",
    "plt.show()"
   ]
  }
 ],
 "metadata": {
  "kernelspec": {
   "display_name": "Python 3 (ipykernel)",
   "language": "python",
   "name": "python3"
  },
  "language_info": {
   "codemirror_mode": {
    "name": "ipython",
    "version": 3
   },
   "file_extension": ".py",
   "mimetype": "text/x-python",
   "name": "python",
   "nbconvert_exporter": "python",
   "pygments_lexer": "ipython3",
   "version": "3.9.12"
  }
 },
 "nbformat": 4,
 "nbformat_minor": 5
}
